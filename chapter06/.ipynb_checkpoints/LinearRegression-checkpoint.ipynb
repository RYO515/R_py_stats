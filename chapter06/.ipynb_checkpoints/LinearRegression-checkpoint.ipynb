{
 "cells": [
  {
   "cell_type": "markdown",
   "metadata": {},
   "source": [
    "# 重回帰分析"
   ]
  },
  {
   "cell_type": "markdown",
   "metadata": {},
   "source": [
    "| No | 走行距離(km) | 経過年数(年) | 金額(万円) |\n",
    "| :---: | :---: | :---: | :---: |\n",
    "| 1 | 31,438 | 3 | 125 |\n",
    "| 2 | 13,845 | 3 | 140 |\n",
    "| 3 | 43,095 | 5 | 98 |\n",
    "| 4 | 40,946 | 4 | 113 |\n",
    "| 5 | 82,375 | 5 | 65 |\n",
    "| 6 | 78,764 | 6 | 70 |\n",
    "| 7 | 90,554 | 7 | 55 |\n",
    "| 8 | 69,142 | 8 | 80 |\n",
    "| 9 | 23,712 | 5 | 95 |\n",
    "| 10 | 51,489 | 6 | 88 |\n",
    "| 11 | 60,023 | 10 | 90 |\n",
    "| 12 | 80,123 | 2 | 132 |"
   ]
  },
  {
   "cell_type": "code",
   "execution_count": 1,
   "metadata": {},
   "outputs": [],
   "source": [
    "from sklearn.linear_model import LinearRegression"
   ]
  },
  {
   "cell_type": "code",
   "execution_count": 3,
   "metadata": {},
   "outputs": [],
   "source": [
    "data = [\n",
    "    [31438, 3], [13845, 3], [43095, 5],\n",
    "    [40946, 4], [82375, 5], [78764, 6],\n",
    "    [90554, 7], [69142, 8], [23712, 5],\n",
    "    [51489, 6], [60023, 10], [80123, 2]\n",
    "]\n",
    "price = [125, 140, 98, 113, 65, 70, 55, 80, 95, 88, 90, 132]"
   ]
  },
  {
   "cell_type": "code",
   "execution_count": 7,
   "metadata": {},
   "outputs": [
    {
     "name": "stdout",
     "output_type": "stream",
     "text": [
      "[array([-5.11176275e-04, -6.16865464e+00]), 157.16539794318928]\n"
     ]
    }
   ],
   "source": [
    "model_lr = LinearRegression()\n",
    "model_lr.fit(data, price)\n",
    "\n",
    "# model_lr.coef_ 回帰係数\n",
    "# model_lr.intercept_ 切片(誤差)\n",
    "print([model_lr.coef_, model_lr.intercept_])"
   ]
  },
  {
   "cell_type": "code",
   "execution_count": null,
   "metadata": {},
   "outputs": [],
   "source": []
  }
 ],
 "metadata": {
  "kernelspec": {
   "display_name": "Python 3",
   "language": "python",
   "name": "python3"
  },
  "language_info": {
   "codemirror_mode": {
    "name": "ipython",
    "version": 3
   },
   "file_extension": ".py",
   "mimetype": "text/x-python",
   "name": "python",
   "nbconvert_exporter": "python",
   "pygments_lexer": "ipython3",
   "version": "3.8.5"
  }
 },
 "nbformat": 4,
 "nbformat_minor": 4
}
