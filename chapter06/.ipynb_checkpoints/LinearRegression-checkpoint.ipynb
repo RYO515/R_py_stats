{
 "cells": [
  {
   "cell_type": "markdown",
   "metadata": {},
   "source": [
    "# 単回帰分析"
   ]
  },
  {
   "cell_type": "markdown",
   "metadata": {},
   "source": [
    "##### 気温とかき氷の販売データ"
   ]
  },
  {
   "cell_type": "markdown",
   "metadata": {},
   "source": [
    "| 日付 | 気温 | 販売数| \n",
    "| :---: | :---: | :---: |\n",
    "| 7/1 | 15 | 80 |\n",
    "| 7/2 | 21 | 100 |\n",
    "| 7/3 | 22 | 95 |\n",
    "| 7/4 | 24 | 120 |\n",
    "| 7/5 | 25 | 128 |\n",
    "| 7/6 | 27 | 140 |\n",
    "| 7/7 | 28 | 141 |\n",
    "| 7/8 | 29 | 150 |\n",
    "| 7/9 | 30 | 160 |"
   ]
  },
  {
   "cell_type": "code",
   "execution_count": 8,
   "metadata": {},
   "outputs": [
    {
     "data": {
      "text/plain": [
       "LinearRegression()"
      ]
     },
     "execution_count": 8,
     "metadata": {},
     "output_type": "execute_result"
    }
   ],
   "source": [
    "from sklearn.linear_model import LinearRegression\n",
    "import matplotlib.pyplot as plt\n",
    "\n",
    "x = [[15], [21], [22], [24], [25], [27], [28], [29], [30]]\n",
    "y = [80, 100, 95, 120, 128, 140, 141, 150, 160]\n",
    "\n",
    "model_lr = LinearRegression()\n",
    "model_lr.fit(x, y)"
   ]
  },
  {
   "cell_type": "code",
   "execution_count": 9,
   "metadata": {},
   "outputs": [
    {
     "name": "stdout",
     "output_type": "stream",
     "text": [
      "y = 5.572x + -13.054\n"
     ]
    }
   ],
   "source": [
    "print('y = %.03fx + %.03f' % (model_lr.coef_, model_lr.intercept_))"
   ]
  },
  {
   "cell_type": "code",
   "execution_count": 10,
   "metadata": {},
   "outputs": [
    {
     "data": {
      "image/png": "[encoded data removed]",
      "text/plain": [
       "<Figure size 432x288 with 1 Axes>"
      ]
     },
     "metadata": {
      "needs_background": "light"
     },
     "output_type": "display_data"
    }
   ],
   "source": [
    "plt.plot(x, y, \"o\")\n",
    "plt.plot(x, model_lr.predict(x), linestyle='solid')\n",
    "plt.show()"
   ]
  },
  {
   "cell_type": "code",
   "execution_count": 11,
   "metadata": {},
   "outputs": [
    {
     "data": {
      "text/plain": [
       "0.9377073658062173"
      ]
     },
     "execution_count": 11,
     "metadata": {},
     "output_type": "execute_result"
    }
   ],
   "source": [
    "model_lr.score(x, y)"
   ]
  },
  {
   "cell_type": "markdown",
   "metadata": {},
   "source": [
    "# 重回帰分析"
   ]
  },
  {
   "cell_type": "markdown",
   "metadata": {},
   "source": [
    "| No | 走行距離(km) | 経過年数(年) | 金額(万円) |\n",
    "| :---: | :---: | :---: | :---: |\n",
    "| 1 | 31,438 | 3 | 125 |\n",
    "| 2 | 13,845 | 3 | 140 |\n",
    "| 3 | 43,095 | 5 | 98 |\n",
    "| 4 | 40,946 | 4 | 113 |\n",
    "| 5 | 82,375 | 5 | 65 |\n",
    "| 6 | 78,764 | 6 | 70 |\n",
    "| 7 | 90,554 | 7 | 55 |\n",
    "| 8 | 69,142 | 8 | 80 |\n",
    "| 9 | 23,712 | 5 | 95 |\n",
    "| 10 | 51,489 | 6 | 88 |\n",
    "| 11 | 60,023 | 10 | 90 |\n",
    "| 12 | 80,123 | 2 | 132 |"
   ]
  },
  {
   "cell_type": "code",
   "execution_count": 1,
   "metadata": {},
   "outputs": [],
   "source": [
    "from sklearn.linear_model import LinearRegression"
   ]
  },
  {
   "cell_type": "code",
   "execution_count": 3,
   "metadata": {},
   "outputs": [],
   "source": [
    "data = [\n",
    "    [31438, 3], [13845, 3], [43095, 5],\n",
    "    [40946, 4], [82375, 5], [78764, 6],\n",
    "    [90554, 7], [69142, 8], [23712, 5],\n",
    "    [51489, 6], [60023, 10], [80123, 2]\n",
    "]\n",
    "price = [125, 140, 98, 113, 65, 70, 55, 80, 95, 88, 90, 132]"
   ]
  },
  {
   "cell_type": "code",
   "execution_count": 7,
   "metadata": {},
   "outputs": [
    {
     "name": "stdout",
     "output_type": "stream",
     "text": [
      "[array([-5.11176275e-04, -6.16865464e+00]), 157.16539794318928]\n"
     ]
    }
   ],
   "source": [
    "model_lr = LinearRegression()\n",
    "model_lr.fit(data, price)\n",
    "\n",
    "# model_lr.coef_ 回帰係数\n",
    "# model_lr.intercept_ 切片(誤差)\n",
    "print([model_lr.coef_, model_lr.intercept_])"
   ]
  },
  {
   "cell_type": "code",
   "execution_count": null,
   "metadata": {},
   "outputs": [],
   "source": []
  }
 ],
 "metadata": {
  "kernelspec": {
   "display_name": "Python 3",
   "language": "python",
   "name": "python3"
  },
  "language_info": {
   "codemirror_mode": {
    "name": "ipython",
    "version": 3
   },
   "file_extension": ".py",
   "mimetype": "text/x-python",
   "name": "python",
   "nbconvert_exporter": "python",
   "pygments_lexer": "ipython3",
   "version": "3.8.5"
  }
 },
 "nbformat": 4,
 "nbformat_minor": 4
}
